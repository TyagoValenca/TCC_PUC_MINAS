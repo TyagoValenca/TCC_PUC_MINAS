{
  "nbformat": 4,
  "nbformat_minor": 0,
  "metadata": {
    "colab": {
      "name": "TCC_TYAGO_Arvore_Analise4.ipynb",
      "provenance": [],
      "collapsed_sections": []
    },
    "kernelspec": {
      "name": "python3",
      "display_name": "Python 3"
    },
    "language_info": {
      "name": "python"
    }
  },
  "cells": [
    {
      "cell_type": "markdown",
      "source": [
        "# NoteBook utilizado para criação e avaliação dos Hiperparâmetros da árvore de decisão.\n",
        "\n",
        "# Será inicialmente carregado com o DataSet definido no Notebook \"TCC_TYAGO_AnaliseAtributos.ipynb\"."
      ],
      "metadata": {
        "id": "A_C8FdVndkyt"
      }
    },
    {
      "cell_type": "code",
      "source": [
        "from google.colab import drive\n",
        "drive.mount('/content/drive')"
      ],
      "metadata": {
        "id": "CFn3VUwNCoX4",
        "colab": {
          "base_uri": "https://localhost:8080/"
        },
        "outputId": "c85aac0e-f93f-47c9-a55f-cebb9a99312f"
      },
      "execution_count": null,
      "outputs": [
        {
          "output_type": "stream",
          "name": "stdout",
          "text": [
            "Mounted at /content/drive\n"
          ]
        }
      ]
    },
    {
      "cell_type": "code",
      "execution_count": null,
      "metadata": {
        "id": "snk2FgLqdXCm"
      },
      "outputs": [],
      "source": [
        "import pandas as pd\n",
        "import numpy as np\n",
        "from sklearn import datasets, tree\n",
        "from sklearn.model_selection import train_test_split, RandomizedSearchCV\n",
        "from sklearn.tree import DecisionTreeClassifier\n",
        "from sklearn.metrics import accuracy_score, classification_report, confusion_matrix\n",
        "from sklearn.feature_extraction import DictVectorizer\n",
        "from sklearn.preprocessing import LabelEncoder\n",
        "from scipy.stats import randint\n",
        "from sklearn.ensemble import GradientBoostingClassifier"
      ]
    },
    {
      "cell_type": "markdown",
      "source": [
        "Carregamento do arquivo e faz os seguintes tratamento de dados:\n",
        "\n",
        "\n",
        "*   Remove registros Nulos\n",
        "*   Remove regitros Inválidos\n",
        "*   Substitui valores nulos por zero\n",
        "*   Cria campo de diferança.   "
      ],
      "metadata": {
        "id": "eOUaRXi8dubL"
      }
    },
    {
      "cell_type": "code",
      "source": [
        "pd_dados = pd.read_excel(\"/content/sample_data/TCC_Dados_Final1_ni.xlsx\", sheet_name=0)     \n",
        "#pd_dados = pd.read_csv(arquivo, sheet_name=0) \n",
        "\n",
        "print(pd_dados.describe())\n",
        "        \n",
        "print(\"\\nRemovendo registros nulos do arquivo\")\n",
        "# dropna remove os registros faltantes    \n",
        "pd_dados.dropna(axis=0, subset=['sit_cadastral'], inplace = True) \n",
        "pd_dados.dropna(axis=0, subset=['cnae3'], inplace = True)\n",
        "pd_dados.dropna(axis=0, subset=['ni'], inplace = True)\n",
        "\n",
        "\n",
        "#Remove registros que tem CNAE Inválido ou Não Informado\n",
        "pd_dados['sit_cadastral'] = pd_dados['sit_cadastral'].astype('str')\n",
        "pd_dados = pd_dados[~pd_dados['sit_cadastral'].str.contains('NULA')]\n",
        "\n",
        "print(\"\\nRemovendo registros inválidos do arquivo\")\n",
        "#Remove registros que tem CNAE Inválido ou Não Informado\n",
        "pd_dados['cnae3'] = pd_dados['cnae3'].astype('str')\n",
        "pd_dados = pd_dados[~pd_dados['cnae3'].str.contains('IN')]\n",
        "pd_dados = pd_dados[~pd_dados['cnae3'].str.contains('NI')]\n",
        "\n",
        "print(\"\\nSubstitui valores nulos por Zero para os campos de Débitos\")\n",
        "#Coloca zero quando não tem valor, para não dá erro no calculo da diferença. Quando está nulo é por que não tem mais débito, ou seja, está zerado\n",
        "pd_dados[['valorm1']] = pd_dados[['valorm1']].fillna(value = 0)\n",
        "pd_dados[['valorm3']] = pd_dados[['valorm3']].fillna(value = 0)\n",
        "\n",
        "print(\"\\nCriando campos de comparação\")\n",
        "#calcula os campos de comparação para saber se o débito aumentou o diminuiu\n",
        "pd_dados[\"Dif1\"] = pd_dados.valorm1 - pd_dados.valor\n",
        "pd_dados[\"Dif3\"] = pd_dados.valorm3 - pd_dados.valor\n",
        "\n",
        "print(pd_dados.describe())\n",
        "\n",
        "pd_dados = pd_dados.loc[pd_dados['Dif1'] > 10]\n",
        "\n",
        "print(\"\\nSalvando o arquivo: {0}\".format(\"/content/sample_data/TCC_Dados_Final1_ni_Aumentou.xlsx\"))\n",
        "pd_dados.to_excel(\"/content/sample_data/TCC_Dados_Final1_ni_Aumentou.xlsx\", index=False)"
      ],
      "metadata": {
        "id": "pxkuMgt6duHK"
      },
      "execution_count": null,
      "outputs": []
    },
    {
      "cell_type": "markdown",
      "source": [
        "Função que define se Aumentou, Diminuiu ou Manteve"
      ],
      "metadata": {
        "id": "M8HOsgs2d4GC"
      }
    },
    {
      "cell_type": "code",
      "source": [
        "def encode_units(x):\n",
        "  if x > 500:\n",
        "    return \"Aumentou_500\"\n",
        "  elif x > 10:\n",
        "    return \"Aumentou_10\"\n",
        "  else:\n",
        "      return \"Não Aumentou\"\n"
      ],
      "metadata": {
        "id": "i1jmDPDPd5c6"
      },
      "execution_count": null,
      "outputs": []
    },
    {
      "cell_type": "markdown",
      "source": [
        "Campos do Modelo a ser treinado\n",
        "\n",
        "    0 - ni\t\n",
        "    1 - classe\t\n",
        "    2 - sit_cadastral\t\n",
        "    3 - diferenciada\t\n",
        "    4 - simei\t\n",
        "    5 - simples\t\n",
        "    6 - porte\t\n",
        "    7 - nat_juridica\t\n",
        "    8 - cnae3\t\n",
        "    9 - valor\n",
        "    10 - valorm1\t\n",
        "    11 - valorm3\t\n",
        "    12 - Dif1\n",
        "    13 - Dif3"
      ],
      "metadata": {
        "id": "CXkBKWtceA16"
      }
    },
    {
      "cell_type": "markdown",
      "source": [
        "Treinamendo de Modelo sem Particionar a árvore e com Hiperparâmetros pre-definidos, \"GRID SEARCH\""
      ],
      "metadata": {
        "id": "Al6KGmTZeuSt"
      }
    },
    {
      "cell_type": "code",
      "source": [
        "pd_debitos = pd.read_excel(\"/content/sample_data/TCC_Dados_Final1_ni_Aumentou.xlsx\", sheet_name=0) \n",
        "print(\"\\nDimensões: {0}\".format(pd_debitos.shape))\n",
        "#print(\"\\nCampos: {0}\".format(pd_debitos.keys()))\n",
        "#print(pd_debitos.describe(), sep='\\n')\n",
        "print(\"\\nQuantidade de Registros antes: {0}\".format(pd_debitos[\"classe\"].count()))\n",
        "\n",
        "#Tranforma os valores de diferença em -1 se diminuiu e 1 se aumentou o débito\n",
        "pd_debitos[\"Dif1\"] = pd_debitos[\"Dif1\"].apply(encode_units)\n",
        "pd_debitos[\"Dif3\"] = pd_debitos[\"Dif3\"].apply(encode_units)\n",
        "#apaga os valores sem diferença, manteve o débito igual\n",
        "pd_debitos.dropna(axis=0, subset=['Dif1'], inplace = True)\n",
        "pd_debitos.dropna(axis=0, subset=['Dif3'], inplace = True)\n",
        "\n",
        "#print(\"\\nQuantidade de Registros depois: {0}\".format(pd_debitos[\"classe\"].count()))\n",
        "\n",
        "var_mod =['classe','sit_cadastral', 'diferenciada', 'simei','simples', 'porte', 'nat_juridica', 'cnae3'] \n",
        "le = LabelEncoder() \n",
        "#print(pd_debitos.keys())\n",
        "for i in var_mod: \n",
        "    pd_debitos[i] = le.fit_transform(pd_debitos[i]) \n",
        "    #print(pd_debitos[i].sort_values().unique().tolist())\n",
        "    #print(le.inverse_transform(pd_debitos[i].sort_values().unique().tolist()))\n",
        "\n",
        "\n",
        "#define a coluna de resultado\n",
        "#print(pd_debitos.iloc[:,13:14])\n",
        "y_dados_m1 = le.fit_transform(pd_debitos.iloc[:,12:13])\n",
        "y_dados_m3 = le.fit_transform(pd_debitos.iloc[:,13:14])\n",
        "arr_label = le.inverse_transform([0,1,2])\n",
        "print(le.inverse_transform([0,1,2]))\n",
        "#print(y_train)    \n",
        "\n",
        "X_dados = pd_debitos.iloc[:,0:9]\n",
        "\n",
        "for criterios_decisao in [['gini',10, 50], ['gini',20, 50],['gini', 20, 100],['entropy',10, 50], ['entropy',20, 50],['entropy', 20, 100]] :\n",
        "    #Cria o modelo com os HyperParametros configurados, nesse caso utiliza os Defaults\n",
        "    \n",
        "    debitos_tree = DecisionTreeClassifier(random_state=0, criterion=criterios_decisao[0], min_samples_leaf=criterios_decisao[1], min_samples_split=criterios_decisao[2])\n",
        "    #debitos_tree = DecisionTreeClassifier(random_state=0)\n",
        "    #print(\"DecisionTreeClassifier\")\n",
        "    debitos_tree = debitos_tree.fit(X_dados, y_dados_m3) #comando que irá treinar é o FIT\n",
        "    #print(\"Acurácia\", debitos_tree.score(X_train, y_train)) #método Scrore calcula a Acurária da base de Treinamento\n",
        "\n",
        "    Train_predict = debitos_tree.predict(X_dados) \n",
        "\n",
        "    #print(\"Acurácia (previsão):\", accuracy_score(y_dados_m1, Train_predict)) \n",
        "    #print(classification_report(y_dados_m1, Train_predict, target_names=[\"Aumentou\", \"Diminuiu\", \"Manteve\"]))\n",
        "\n",
        "    print(\"Acurancia M3: {0}, criterion: {1}, min_samples_leaf: {2}, min_samples_split: {3}\".format(accuracy_score(y_dados_m3, Train_predict), debitos_tree.criterion, debitos_tree.min_samples_leaf, debitos_tree.min_samples_split))\n",
        "\n",
        "    #print(\"Acurácia (previsão M3):\", accuracy_score(y_dados_m3, Train_predict)) \n",
        "    print(classification_report(y_dados_m3, Train_predict, target_names=arr_label))\n",
        "    \n",
        "    #Matriz de Confusão\n",
        "    cnf_matrix = confusion_matrix(y_dados_m3, Train_predict)\n",
        "    cnf_table = pd.DataFrame(data=cnf_matrix, index=arr_label, columns=[arr_label[0] + \" (prev)\", arr_label[1] + \" (prev)\", arr_label[2] + \" (prev)\"])\n",
        "    print(cnf_table)\n",
        "\n",
        "\n",
        "\n",
        "\n"
      ],
      "metadata": {
        "id": "JIAOzfsieQAb"
      },
      "execution_count": null,
      "outputs": []
    },
    {
      "cell_type": "markdown",
      "source": [
        "Cria arquivo da Árvore para depois gerar a imagem"
      ],
      "metadata": {
        "id": "QMytdPFEz-g4"
      }
    },
    {
      "cell_type": "code",
      "source": [
        ""
      ],
      "metadata": {
        "id": "8hU7wc-70Ko4"
      },
      "execution_count": null,
      "outputs": []
    }
  ]
}