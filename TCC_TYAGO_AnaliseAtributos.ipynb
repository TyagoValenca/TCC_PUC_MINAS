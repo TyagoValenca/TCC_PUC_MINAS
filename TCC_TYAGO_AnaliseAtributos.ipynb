{
  "nbformat": 4,
  "nbformat_minor": 0,
  "metadata": {
    "colab": {
      "name": "TCC_TYAGO_AnaliseAtributos.ipynb",
      "provenance": [],
      "collapsed_sections": []
    },
    "kernelspec": {
      "name": "python3",
      "display_name": "Python 3"
    },
    "language_info": {
      "name": "python"
    }
  },
  "cells": [
    {
      "cell_type": "markdown",
      "source": [
        "# Esse NoteBook serve para avaliar inicialmente quais atributos são relevantes e necessários para o atingimento da seleção.\n",
        "\n",
        "Inicialmente serão testado os seguintes atributos:\n",
        "\n",
        "\n",
        "1.   Classe: identifica se o débito é previdenciário ou fazendário; \n",
        "2.   Sit_Cadastral: indica a situação cadastral do contribuinte;\n",
        "3.   Diferenciada: indica se a empresa é diferenciada, grande porte;\n",
        "4.   Especial: indica se a empresa é especial;\n",
        "5.   Simei: indica se a empresa é Simples ou MEI;\n",
        "6.   Simples: indica se a empresa é do simples;\n",
        "7.   Porte: indica o porte da empresa;\n",
        "8.   Grupo_Nat_Juridica: Grupo da Natureza Jurídica;\n",
        "9.   Nat_Juridica: Natureza Jurídica;\n",
        "10.  Setor_Economico: Setor econômico;\n",
        "11.  Cnae1: Seção da Tabela CNAE;\n",
        "12.  Cnae2: Divisão da Tabela CNAE\n",
        "13.  Cnae3: Grupo da Tabela CNAE\n",
        "14.  Cnae4: Classe da Tabela CNAE\n",
        "\n"
      ],
      "metadata": {
        "id": "y4aTyb0uV7mg"
      }
    },
    {
      "cell_type": "markdown",
      "source": [
        "Importações iniciais das bibliotecas que serão utilizadas"
      ],
      "metadata": {
        "id": "Crlga7RRkDqh"
      }
    },
    {
      "cell_type": "code",
      "execution_count": null,
      "metadata": {
        "id": "JtotMYDpVsrt"
      },
      "outputs": [],
      "source": [
        "import pandas as pd\n",
        "import numpy as np\n",
        "from sklearn import datasets, tree\n",
        "from sklearn.model_selection import train_test_split\n",
        "from sklearn.tree import DecisionTreeClassifier\n",
        "from sklearn.metrics import accuracy_score, classification_report, confusion_matrix\n",
        "from sklearn.feature_extraction import DictVectorizer\n",
        "from sklearn.preprocessing import LabelEncoder"
      ]
    },
    {
      "cell_type": "markdown",
      "source": [
        "Carregar base de dados inicial"
      ],
      "metadata": {
        "id": "rp9f4awqkT7R"
      }
    },
    {
      "cell_type": "code",
      "source": [
        "dados_202012 = pd.read_excel(\"/content/sample_data/TCC_Extracao_inicial_todas_colunas.xlsx\", sheet_name=0) "
      ],
      "metadata": {
        "id": "hiPFwmFikW7Q"
      },
      "execution_count": null,
      "outputs": []
    },
    {
      "cell_type": "markdown",
      "source": [
        "Tratamento de dados\n",
        "\n",
        "\n",
        "    Faz os seguintes tratamentos:\n",
        "    Remove os registros com os valores:\n",
        "        setor_economico <> 'N/A'\n",
        "        cnae1 <> 'INVÁLIDO'\n",
        "        cnae1 <> 'NÃO INFORMADO'\n",
        "    Trata os campos de valor para transformar em números    \n"
      ],
      "metadata": {
        "id": "XhhK7btekh25"
      }
    },
    {
      "cell_type": "code",
      "source": [
        "print(dados_202012.shape)\n",
        "print(dados_202012.keys())\n",
        "\n",
        "# dropna remove os registros faltantes\n",
        "dados_202012.dropna(axis=0, subset=['sit_cadastral'], inplace = True) \n",
        "dados_202012.dropna(axis=0, subset=['setor_economico'], inplace = True)\n",
        "dados_202012.dropna(axis=0, subset=['cnae3'], inplace = True)\n",
        "\n",
        "#Remove registros que tem CNAE Inválido ou Não Informado\n",
        "dados_202012['sit_cadastral'] = dados_202012['sit_cadastral'].astype('str')\n",
        "dados_202012 = dados_202012[~dados_202012['sit_cadastral'].str.contains('NULA')]\n",
        "\n",
        "#Remove registros que tem CNAE Inválido ou Não Informado\n",
        "dados_202012['cnae3'] = dados_202012['cnae3'].astype('str')\n",
        "dados_202012 = dados_202012[~dados_202012['cnae3'].str.contains('INVÁLIDO')]\n",
        "dados_202012 = dados_202012[~dados_202012['cnae3'].str.contains('NÃO INFORMADO')]\n",
        "\n",
        "#Coloca zero quando não tem valor, para não dá erro no calculo da diferença. Quando está nulo é por que não tem mais débito, ou seja, está zerado\n",
        "dados_202012[['valorm1', 'valorm2', 'valorm3']] = dados_202012[['valorm1', 'valorm2', 'valorm3']].fillna(value = 0)\n",
        "\n",
        "print(dados_202012.shape)\n",
        "print(dados_202012.keys())"
      ],
      "metadata": {
        "colab": {
          "base_uri": "https://localhost:8080/"
        },
        "id": "dQD4y3HSkoRQ",
        "outputId": "10ffd97e-9248-4ec9-a3c1-e7d0eb3fb430"
      },
      "execution_count": null,
      "outputs": [
        {
          "output_type": "stream",
          "name": "stdout",
          "text": [
            "(30239, 18)\n",
            "Index(['classe', 'sit_cadastral', 'diferenciada', 'especial', 'simei',\n",
            "       'simples', 'porte', 'grupo_nat_juridica', 'nat_juridica',\n",
            "       'setor_economico', 'cnae1', 'cnae2', 'cnae3', 'cnae4', 'valor',\n",
            "       'valorm1', 'valorm2', 'valorm3'],\n",
            "      dtype='object')\n",
            "(29953, 18)\n",
            "Index(['classe', 'sit_cadastral', 'diferenciada', 'especial', 'simei',\n",
            "       'simples', 'porte', 'grupo_nat_juridica', 'nat_juridica',\n",
            "       'setor_economico', 'cnae1', 'cnae2', 'cnae3', 'cnae4', 'valor',\n",
            "       'valorm1', 'valorm2', 'valorm3'],\n",
            "      dtype='object')\n"
          ]
        },
        {
          "output_type": "stream",
          "name": "stderr",
          "text": [
            "/usr/local/lib/python3.7/dist-packages/ipykernel_launcher.py:14: SettingWithCopyWarning: \n",
            "A value is trying to be set on a copy of a slice from a DataFrame.\n",
            "Try using .loc[row_indexer,col_indexer] = value instead\n",
            "\n",
            "See the caveats in the documentation: https://pandas.pydata.org/pandas-docs/stable/user_guide/indexing.html#returning-a-view-versus-a-copy\n",
            "  \n"
          ]
        }
      ]
    },
    {
      "cell_type": "markdown",
      "source": [
        "Criando campos de comparação"
      ],
      "metadata": {
        "id": "nOLAHPXboXZE"
      }
    },
    {
      "cell_type": "code",
      "source": [
        "# Cria os campos de comparação com o mês base, calculando a diferença na evolução de cada mês\n",
        "dados_202012[\"Dif1\"] = dados_202012.valorm1 - dados_202012.valor\n",
        "dados_202012[\"Dif2\"] = dados_202012.valorm2 - dados_202012.valor\n",
        "dados_202012[\"Dif3\"] = dados_202012.valorm3 - dados_202012.valor\n",
        "\n",
        "print(dados_202012.shape)\n",
        "print(dados_202012.keys())"
      ],
      "metadata": {
        "colab": {
          "base_uri": "https://localhost:8080/"
        },
        "id": "4PXwQVNeoZMk",
        "outputId": "010ff1e6-6df7-4ab9-f1b8-92c3aefa2817"
      },
      "execution_count": null,
      "outputs": [
        {
          "output_type": "stream",
          "name": "stdout",
          "text": [
            "(29953, 21)\n",
            "Index(['classe', 'sit_cadastral', 'diferenciada', 'especial', 'simei',\n",
            "       'simples', 'porte', 'grupo_nat_juridica', 'nat_juridica',\n",
            "       'setor_economico', 'cnae1', 'cnae2', 'cnae3', 'cnae4', 'valor',\n",
            "       'valorm1', 'valorm2', 'valorm3', 'Dif1', 'Dif2', 'Dif3'],\n",
            "      dtype='object')\n"
          ]
        }
      ]
    },
    {
      "cell_type": "markdown",
      "source": [
        "Exporta arquivo Formatado.="
      ],
      "metadata": {
        "id": "zE-WA7e6orKT"
      }
    },
    {
      "cell_type": "code",
      "source": [
        "dados_202012.to_excel(\"/content/sample_data/TCC_Extracao_inicial_todas_colunas_FORMATADO.xlsx\", index=False)"
      ],
      "metadata": {
        "id": "MGHsRtgOottz"
      },
      "execution_count": null,
      "outputs": []
    },
    {
      "cell_type": "markdown",
      "source": [
        "# Depois do formatamento inicial dos dados, começa a preparação para a análise"
      ],
      "metadata": {
        "id": "DLBNSPTEOL2h"
      }
    },
    {
      "cell_type": "markdown",
      "source": [
        "Método de encode para definir a variação dos débito"
      ],
      "metadata": {
        "id": "Xi9QH3UqObvI"
      }
    },
    {
      "cell_type": "code",
      "source": [
        "def encode_units(x):\n",
        "  if x < -100:\n",
        "    return \"Diminuiu\"\n",
        "  elif x > 100:\n",
        "    return \"Aumentou\"\n",
        "  else:\n",
        "      return \"Manteve\""
      ],
      "metadata": {
        "id": "AUxRoociOZZf"
      },
      "execution_count": null,
      "outputs": []
    },
    {
      "cell_type": "markdown",
      "source": [
        "Esses são os campos do DataSet que serão analisados\n",
        "\n",
        "  0 - classe\t\n",
        "  1 - sit_cadastral\t\n",
        "  2 - diferenciada\t\n",
        "  3 - especial\t\n",
        "  4 - simei\t\n",
        "  4 - simples\t\n",
        "  6 - porte\t\n",
        "  7 - grupo_nat_juridica\t\n",
        "  8 - nat_juridica\t\n",
        "  9 - setor_economico\t\n",
        "  10 - cnae1\t\n",
        "  11 - cnae2\t\n",
        "  12 - cnae3\t\n",
        "  13 - cnae4  \n",
        "  14 - valor\t\n",
        "  15 - valorm1\t\n",
        "  16 - valorm2\t\n",
        "  17 - valorm3\t\n",
        "  18 - Dif1  \n",
        "  19 - Dif2\t\n",
        "  20 - Dif3"
      ],
      "metadata": {
        "id": "TIsx8mWnO0Uw"
      }
    },
    {
      "cell_type": "code",
      "source": [
        "pd_debitos = pd.read_excel(\"/content/sample_data/TCC_Extracao_inicial_todas_colunas_FORMATADO.xlsx\", sheet_name=0) \n",
        "print(\"\\nDimensões: {0}\".format(pd_debitos.shape))\n",
        "print(\"\\nCampos: {0}\".format(pd_debitos.keys()))\n",
        "print(\"\\nQuantidade de Registros antes: {0}\".format(pd_debitos[\"classe\"].count()))\n",
        "\n",
        "#Tranforma os valores de diferença em -100 se diminuiu e 100 se aumentou o débito\n",
        "pd_debitos[\"Dif3\"] = pd_debitos[\"Dif3\"].apply(encode_units)\n",
        "\n",
        "#Faz o LabelEncode para todos os atributos\n",
        "var_mod =['classe','sit_cadastral','diferenciada','especial','simei','simples', 'porte', 'grupo_nat_juridica', 'nat_juridica', 'setor_economico', 'cnae1', 'cnae2', 'cnae3', 'cnae4'] \n",
        "le = LabelEncoder() \n",
        "for i in var_mod: \n",
        "  pd_debitos[i] = le.fit_transform(pd_debitos[i]) \n",
        "\n",
        "\n",
        "#define a coluna de resultado\n",
        "y_train = le.fit_transform(pd_debitos.iloc[:,20:21])\n",
        "print(\"\\nOs Labels 0, 1 e 2 são : {0}\".format(le.inverse_transform([0,1,2])))\n",
        "\n",
        "\n",
        "#Define as colunas que serão removidas\n",
        "coluna_removidas = ['especial', 'grupo_nat_juridica', 'setor_economico','cnae1', 'cnae2', 'cnae3'] #['diferenciada','especial', 'grupo_nat_juridica', 'setor_economico','cnae1', 'cnae2', 'cnae3']\n",
        "pd_debitos.drop(coluna_removidas, axis = 1, inplace=True)\n",
        "print(\"\\nTodos os Campos: {0}\".format(pd_debitos.keys()))\n",
        "\n",
        "#define o treinamento apenas com os atributos restantes\n",
        "X_train = pd_debitos.iloc[:,0:14-len(coluna_removidas)]\n",
        "print(\"\\nCampos restantes: {0}\".format(pd_debitos.iloc[:,0:14-len(coluna_removidas)].keys()))\n",
        "\n",
        "#Treina e verifica a acurácia\n",
        "debitos_tree = DecisionTreeClassifier(random_state=0)\n",
        "debitos_tree = debitos_tree.fit(X_train, y_train) #comando que irá treinar é o FIT\n",
        "print(\"Acurácia (base de treinamento):\", debitos_tree.score(X_train, y_train))\n",
        "\n",
        "Train_predict = debitos_tree.predict(X_train)\n",
        "print(classification_report(y_train, Train_predict, target_names=[\"Aumentou\", \"Diminuiu\", \"Manteve\"]))"
      ],
      "metadata": {
        "colab": {
          "base_uri": "https://localhost:8080/"
        },
        "id": "SRfvqCcsPEQW",
        "outputId": "796bc644-f8b7-4654-a724-3b6254ea0e3b"
      },
      "execution_count": null,
      "outputs": [
        {
          "output_type": "stream",
          "name": "stdout",
          "text": [
            "\n",
            "Dimensões: (29953, 21)\n",
            "\n",
            "Campos: Index(['classe', 'sit_cadastral', 'diferenciada', 'especial', 'simei',\n",
            "       'simples', 'porte', 'grupo_nat_juridica', 'nat_juridica',\n",
            "       'setor_economico', 'cnae1', 'cnae2', 'cnae3', 'cnae4', 'valor',\n",
            "       'valorm1', 'valorm2', 'valorm3', 'Dif1', 'Dif2', 'Dif3'],\n",
            "      dtype='object')\n",
            "\n",
            "Quantidade de Registros antes: 29953\n",
            "\n",
            "Os Labels 0, 1 e 2 são : ['Aumentou' 'Diminuiu' 'Manteve']\n",
            "\n",
            "Todos os Campos: Index(['classe', 'sit_cadastral', 'diferenciada', 'simei', 'simples', 'porte',\n",
            "       'nat_juridica', 'cnae4', 'valor', 'valorm1', 'valorm2', 'valorm3',\n",
            "       'Dif1', 'Dif2', 'Dif3'],\n",
            "      dtype='object')\n",
            "\n",
            "Campos restantes: Index(['classe', 'sit_cadastral', 'diferenciada', 'simei', 'simples', 'porte',\n",
            "       'nat_juridica', 'cnae4'],\n",
            "      dtype='object')\n",
            "Acurácia (base de treinamento): 0.9984308750375589\n",
            "              precision    recall  f1-score   support\n",
            "\n",
            "    Aumentou       0.99      1.00      1.00      7013\n",
            "    Diminuiu       1.00      1.00      1.00     13698\n",
            "     Manteve       1.00      1.00      1.00      9242\n",
            "\n",
            "    accuracy                           1.00     29953\n",
            "   macro avg       1.00      1.00      1.00     29953\n",
            "weighted avg       1.00      1.00      1.00     29953\n",
            "\n"
          ]
        },
        {
          "output_type": "stream",
          "name": "stderr",
          "text": [
            "/usr/local/lib/python3.7/dist-packages/sklearn/preprocessing/_label.py:115: DataConversionWarning: A column-vector y was passed when a 1d array was expected. Please change the shape of y to (n_samples, ), for example using ravel().\n",
            "  y = column_or_1d(y, warn=True)\n"
          ]
        }
      ]
    },
    {
      "cell_type": "code",
      "source": [
        ""
      ],
      "metadata": {
        "id": "CyQ63dH_WFZi"
      },
      "execution_count": null,
      "outputs": []
    }
  ]
}