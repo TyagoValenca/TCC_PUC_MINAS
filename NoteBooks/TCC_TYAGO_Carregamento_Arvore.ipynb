{
  "nbformat": 4,
  "nbformat_minor": 0,
  "metadata": {
    "colab": {
      "name": "TCC_TYAGO_Carregamento_Arvore.ipynb",
      "provenance": [],
      "collapsed_sections": []
    },
    "kernelspec": {
      "name": "python3",
      "display_name": "Python 3"
    },
    "language_info": {
      "name": "python"
    }
  },
  "cells": [
    {
      "cell_type": "markdown",
      "source": [
        "# NoteBook utilizado para criação e avaliação dos Hiperparâmetros da árvore de decisão.\n",
        "\n",
        "# Será inicialmente carregado com o DataSet definido no Notebook \"TCC_TYAGO_AnaliseAtributos.ipynb\"."
      ],
      "metadata": {
        "id": "NYE-4UOvoH24"
      }
    },
    {
      "cell_type": "markdown",
      "source": [
        "Importações iniciais das bibliotecas que serão utilizadas"
      ],
      "metadata": {
        "id": "gKjuPfAmolmx"
      }
    },
    {
      "cell_type": "code",
      "source": [
        "import pandas as pd\n",
        "import numpy as np\n",
        "from sklearn import datasets, tree\n",
        "from sklearn.model_selection import train_test_split, RandomizedSearchCV\n",
        "from sklearn.tree import DecisionTreeClassifier\n",
        "from sklearn.metrics import accuracy_score, classification_report, confusion_matrix\n",
        "from sklearn.feature_extraction import DictVectorizer\n",
        "from sklearn.preprocessing import LabelEncoder\n",
        "from scipy.stats import randint\n",
        "from sklearn.ensemble import GradientBoostingClassifier"
      ],
      "metadata": {
        "id": "hEnv1AU6oGf5"
      },
      "execution_count": null,
      "outputs": []
    },
    {
      "cell_type": "markdown",
      "source": [
        "Carregamento do arquivo e faz os seguintes tratamento de dados:\n",
        "\n",
        "\n",
        "*   Remove registros Nulos\n",
        "*   Remove regitros Inválidos\n",
        "*   Substitui valores nulos por zero\n",
        "*   Cria campo de diferança.   "
      ],
      "metadata": {
        "id": "vH7sseA9o5NX"
      }
    },
    {
      "cell_type": "code",
      "source": [
        "#arquivo = \"/content/sample_data/TCC_Extracao_final_ni.csv\"\n",
        "\n",
        "#print(\"\\nLendo o arquivo: {0}\".format(arquivo))\n",
        "    \n",
        "pd_dados = pd.read_excel(\"/content/sample_data/TCC_Extracao_final_ni.xlsx\", sheet_name=0)     \n",
        "#pd_dados = pd.read_csv(arquivo, sheet_name=0) \n",
        "\n",
        "print(pd_dados.describe())\n",
        "    \n",
        "print(\"\\nRemovendo registros nulos do arquivo\")\n",
        "# dropna remove os registros faltantes    \n",
        "pd_dados.dropna(axis=0, subset=['sit_cadastral'], inplace = True) \n",
        "pd_dados.dropna(axis=0, subset=['cnae3'], inplace = True)\n",
        "pd_dados.dropna(axis=0, subset=['ni'], inplace = True)\n",
        "\n",
        "\n",
        "#Remove registros que tem CNAE Inválido ou Não Informado\n",
        "pd_dados['sit_cadastral'] = pd_dados['sit_cadastral'].astype('str')\n",
        "pd_dados = pd_dados[~pd_dados['sit_cadastral'].str.contains('NULA')]\n",
        "\n",
        "print(\"\\nRemovendo registros inválidos do arquivo\")\n",
        "#Remove registros que tem CNAE Inválido ou Não Informado\n",
        "pd_dados['cnae3'] = pd_dados['cnae3'].astype('str')\n",
        "pd_dados = pd_dados[~pd_dados['cnae3'].str.contains('IN')]\n",
        "pd_dados = pd_dados[~pd_dados['cnae3'].str.contains('NI')]\n",
        "\n",
        "print(\"\\nSubstitui valores nulos por Zero para os campos de Débitos\")\n",
        "#Coloca zero quando não tem valor, para não dá erro no calculo da diferença. Quando está nulo é por que não tem mais débito, ou seja, está zerado\n",
        "pd_dados[['valorm3']] = pd_dados[['valorm3']].fillna(value = 0)\n",
        "\n",
        "print(\"\\nCriando campos de comparação\")\n",
        "#calcula os campos de comparação para saber se o débito aumentou o diminuiu\n",
        "pd_dados[\"Dif3\"] = pd_dados.valorm3 - pd_dados.valor\n",
        "\n",
        "print(pd_dados.describe())\n",
        "\n",
        "print(\"\\nSalvando o arquivo: {0}\".format(\"/content/sample_data/TCC_Extracao_final_ni_Formatado.xlsx\"))\n",
        "pd_dados.to_excel(\"/content/sample_data/TCC_Extracao_final_ni_Formatado.xlsx\", index=False)"
      ],
      "metadata": {
        "colab": {
          "base_uri": "https://localhost:8080/"
        },
        "id": "HB3J_oChpw59",
        "outputId": "b36f93da-29d7-4644-8071-98f7dc72eea9"
      },
      "execution_count": null,
      "outputs": [
        {
          "output_type": "stream",
          "name": "stdout",
          "text": [
            "                  ni         valor       valorm3\n",
            "count  389285.000000  3.892850e+05  3.556940e+05\n",
            "mean   191398.469052  2.506342e+04  3.055474e+04\n",
            "std    111414.146668  1.813167e+06  1.658624e+06\n",
            "min         0.000000  1.000000e-02  1.000000e-02\n",
            "25%     94644.000000  1.958200e+02  2.035800e+02\n",
            "50%    190997.000000  6.376300e+02  6.571200e+02\n",
            "75%    287930.000000  1.791880e+03  1.808355e+03\n",
            "max    384661.000000  9.449547e+08  4.740388e+08\n",
            "\n",
            "Removendo registros nulos do arquivo\n",
            "\n",
            "Removendo registros inválidos do arquivo\n"
          ]
        },
        {
          "output_type": "stream",
          "name": "stderr",
          "text": [
            "/usr/local/lib/python3.7/dist-packages/ipykernel_launcher.py:23: SettingWithCopyWarning: \n",
            "A value is trying to be set on a copy of a slice from a DataFrame.\n",
            "Try using .loc[row_indexer,col_indexer] = value instead\n",
            "\n",
            "See the caveats in the documentation: https://pandas.pydata.org/pandas-docs/stable/user_guide/indexing.html#returning-a-view-versus-a-copy\n"
          ]
        },
        {
          "output_type": "stream",
          "name": "stdout",
          "text": [
            "\n",
            "Substitui valores nulos por Zero para os campos de Débitos\n",
            "\n",
            "Criando campos de comparação\n",
            "                  ni         valor       valorm3          Dif3\n",
            "count  389202.000000  3.892020e+05  3.892020e+05  3.892020e+05\n",
            "mean   191395.339199  2.506840e+04  2.792383e+04  2.855435e+03\n",
            "std    111413.728555  1.813360e+06  1.585642e+06  1.481715e+06\n",
            "min         0.000000  1.000000e-02  0.000000e+00 -4.709158e+08\n",
            "25%     94639.250000  1.958025e+02  1.225800e+02  2.400000e-01\n",
            "50%    190993.500000  6.376300e+02  5.632400e+02  1.790000e+00\n",
            "75%    287926.750000  1.791880e+03  1.614480e+03  6.670000e+00\n",
            "max    384661.000000  9.449547e+08  4.740388e+08  4.740277e+08\n",
            "\n",
            "Salvando o arquivo: /content/sample_data/TCC_Extracao_final_ni_Formatado.xlsx\n"
          ]
        }
      ]
    },
    {
      "cell_type": "markdown",
      "source": [
        "Função que define se Aumentou, Diminuiu ou Manteve"
      ],
      "metadata": {
        "id": "1UFh1UTG096a"
      }
    },
    {
      "cell_type": "code",
      "source": [
        "def encode_units(x):\n",
        "  if x < -100:\n",
        "    return \"Diminuiu\"\n",
        "  elif x > 100:\n",
        "    return \"Aumentou\"\n",
        "  else:\n",
        "      return \"Manteve\""
      ],
      "metadata": {
        "id": "lKTvCmJx1KFz"
      },
      "execution_count": null,
      "outputs": []
    },
    {
      "cell_type": "markdown",
      "source": [
        "# treinamento_modelo\n",
        "\n",
        "0 - ni\t\n",
        "1 - classe\t\n",
        "2 - sit_cadastral\t\n",
        "3 - diferenciada\t\n",
        "4 - simei\t\n",
        "5 - simples\t\n",
        "6 - porte\t\n",
        "7 - nat_juridica\t\n",
        "8 - cnae3\t\n",
        "9 - valor\t\n",
        "10 - valorm3\t\n",
        "11 - Dif3"
      ],
      "metadata": {
        "id": "sVWv8OPRzAKm"
      }
    },
    {
      "cell_type": "code",
      "source": [
        "pd_debitos = pd.read_excel(\"/content/sample_data/TCC_Extracao_final_ni_Formatado.xlsx\", sheet_name=0) \n",
        "print(pd_debitos.keys())\n",
        "\n",
        "#Tranforma os valores de diferença em -1 se diminuiu e 1 se aumentou o débito\n",
        "pd_debitos[\"Dif3\"] = pd_debitos[\"Dif3\"].apply(encode_units)\n",
        "#apaga os valores sem diferença, manteve o débito igual\n",
        "pd_debitos.dropna(axis=0, subset=['Dif3'], inplace = True)\n",
        "\n",
        "print(\"\\nQuantidade de Registros depois: {0}\".format(pd_debitos[\"classe\"].count()))\n",
        "\n",
        "\n",
        "var_mod =['classe','sit_cadastral', 'diferenciada', 'simei','simples', 'porte', 'nat_juridica', 'cnae3'] \n",
        "le = LabelEncoder() \n",
        "print(pd_debitos.keys())\n",
        "for i in var_mod: \n",
        "  pd_debitos[i] = le.fit_transform(pd_debitos[i]) \n",
        "  #print(pd_debitos[i].sort_values().unique().tolist())\n",
        "  #print(le.inverse_transform(pd_debitos[i].sort_values().unique().tolist()))\n",
        "\n",
        "#define a coluna de resultado\n",
        "y_dados_m3 = le.fit_transform(pd_debitos.iloc[:,11:12])\n",
        "print(pd_debitos.iloc[:,11:12].keys())\n",
        "print(le.inverse_transform([0,1,2]))\n",
        "print(y_dados_m3)  \n",
        "\n",
        "X_dados = pd_debitos.iloc[:,0:9]\n",
        "#print(\"\\nCampos: {0}\".format(pd_debitos.iloc[:,0:9].keys()))\n",
        "#print(\"\\nCampos: {0}\".format(X_train.head()))\n",
        "\n",
        "debitos_tree = DecisionTreeClassifier(random_state=0) #, criterion=criterios_decisao[0], min_samples_leaf=criterios_decisao[1], min_samples_split=criterios_decisao[2], min_impurity_decrease=0.01)\n",
        "#print(\"DecisionTreeClassifier\")\n",
        "debitos_tree = debitos_tree.fit(X_dados, y_dados_m3) #comando que irá treinar é o FIT\n",
        "print(\"Acurácia\", debitos_tree.score(X_dados, y_dados_m3))\n",
        "\n",
        "\n",
        "for criterios_decisao in [['gini', 10000, 200000],['gini',50000, 200000]]: #['gini', 1, 2],['gini',50, 100],['gini', 50, 200], ['gini', 50, 500], ['gini', 50, 1000], ['gini', 100, 500], ['gini', 100, 1000], ['gini', 200, 500], \n",
        "    #Cria o modelo com os HyperParametros configurados, nesse caso utiliza os Defaults\n",
        "    \n",
        "    debitos_tree = DecisionTreeClassifier(random_state=0, criterion=criterios_decisao[0], min_samples_leaf=criterios_decisao[1], min_samples_split=criterios_decisao[2], min_impurity_decrease=0.01)\n",
        "    #print(\"DecisionTreeClassifier\")\n",
        "    debitos_tree = debitos_tree.fit(X_dados, y_dados_m3) #comando que irá treinar é o FIT\n",
        "    print(\"Acurácia\", debitos_tree.score(X_dados, y_dados_m3)) #método Scrore calcula a Acurária da base de Treinamento\n",
        "\n",
        "    Train_predict = debitos_tree.predict(X_dados) \n",
        "    print(\"Acurácia (previsão):\", accuracy_score(y_dados_m3, Train_predict)) \n",
        "    print(classification_report(y_dados_m3, Train_predict, target_names=[\"Aumentou\", \"Diminuiu\", \"Manteve\"]))\n",
        "\n",
        "   \n",
        "    #print(\"Acurancia M1: {0}, criterion: {1}, min_samples_leaf: {2}, min_samples_split: {3}\".format(accuracy_score(y_dados_m3, Train_predict), debitos_tree.criterion, debitos_tree.min_samples_leaf, debitos_tree.min_samples_split))\n",
        "\n"
      ],
      "metadata": {
        "colab": {
          "base_uri": "https://localhost:8080/"
        },
        "id": "FEVjvjNIzBd9",
        "outputId": "1d06c014-0117-4a37-b9bc-65ce6e9681b1"
      },
      "execution_count": null,
      "outputs": [
        {
          "output_type": "stream",
          "name": "stdout",
          "text": [
            "Index(['ni', 'classe', 'sit_cadastral', 'diferenciada', 'simei', 'simples',\n",
            "       'porte', 'nat_juridica', 'cnae3', 'valor', 'valorm3', 'Dif3'],\n",
            "      dtype='object')\n",
            "\n",
            "Quantidade de Registros depois: 389202\n",
            "Index(['ni', 'classe', 'sit_cadastral', 'diferenciada', 'simei', 'simples',\n",
            "       'porte', 'nat_juridica', 'cnae3', 'valor', 'valorm3', 'Dif3'],\n",
            "      dtype='object')\n"
          ]
        },
        {
          "output_type": "stream",
          "name": "stderr",
          "text": [
            "/usr/local/lib/python3.7/dist-packages/sklearn/preprocessing/_label.py:115: DataConversionWarning: A column-vector y was passed when a 1d array was expected. Please change the shape of y to (n_samples, ), for example using ravel().\n",
            "  y = column_or_1d(y, warn=True)\n"
          ]
        },
        {
          "output_type": "stream",
          "name": "stdout",
          "text": [
            "Index(['Dif3'], dtype='object')\n",
            "['Aumentou' 'Diminuiu' 'Manteve']\n",
            "[2 2 2 ... 1 1 2]\n",
            "Acurácia 1.0\n",
            "Acurácia 0.7552453481739559\n",
            "Acurácia (previsão): 0.7552453481739559\n"
          ]
        },
        {
          "output_type": "stream",
          "name": "stderr",
          "text": [
            "/usr/local/lib/python3.7/dist-packages/sklearn/metrics/_classification.py:1318: UndefinedMetricWarning: Precision and F-score are ill-defined and being set to 0.0 in labels with no predicted samples. Use `zero_division` parameter to control this behavior.\n",
            "  _warn_prf(average, modifier, msg_start, len(result))\n",
            "/usr/local/lib/python3.7/dist-packages/sklearn/metrics/_classification.py:1318: UndefinedMetricWarning: Precision and F-score are ill-defined and being set to 0.0 in labels with no predicted samples. Use `zero_division` parameter to control this behavior.\n",
            "  _warn_prf(average, modifier, msg_start, len(result))\n",
            "/usr/local/lib/python3.7/dist-packages/sklearn/metrics/_classification.py:1318: UndefinedMetricWarning: Precision and F-score are ill-defined and being set to 0.0 in labels with no predicted samples. Use `zero_division` parameter to control this behavior.\n",
            "  _warn_prf(average, modifier, msg_start, len(result))\n"
          ]
        },
        {
          "output_type": "stream",
          "name": "stdout",
          "text": [
            "              precision    recall  f1-score   support\n",
            "\n",
            "    Aumentou       0.00      0.00      0.00     40776\n",
            "    Diminuiu       0.00      0.00      0.00     54483\n",
            "     Manteve       0.76      1.00      0.86    293943\n",
            "\n",
            "    accuracy                           0.76    389202\n",
            "   macro avg       0.25      0.33      0.29    389202\n",
            "weighted avg       0.57      0.76      0.65    389202\n",
            "\n",
            "Acurácia 0.7552453481739559\n",
            "Acurácia (previsão): 0.7552453481739559\n"
          ]
        },
        {
          "output_type": "stream",
          "name": "stderr",
          "text": [
            "/usr/local/lib/python3.7/dist-packages/sklearn/metrics/_classification.py:1318: UndefinedMetricWarning: Precision and F-score are ill-defined and being set to 0.0 in labels with no predicted samples. Use `zero_division` parameter to control this behavior.\n",
            "  _warn_prf(average, modifier, msg_start, len(result))\n"
          ]
        },
        {
          "output_type": "stream",
          "name": "stdout",
          "text": [
            "              precision    recall  f1-score   support\n",
            "\n",
            "    Aumentou       0.00      0.00      0.00     40776\n",
            "    Diminuiu       0.00      0.00      0.00     54483\n",
            "     Manteve       0.76      1.00      0.86    293943\n",
            "\n",
            "    accuracy                           0.76    389202\n",
            "   macro avg       0.25      0.33      0.29    389202\n",
            "weighted avg       0.57      0.76      0.65    389202\n",
            "\n"
          ]
        },
        {
          "output_type": "stream",
          "name": "stderr",
          "text": [
            "/usr/local/lib/python3.7/dist-packages/sklearn/metrics/_classification.py:1318: UndefinedMetricWarning: Precision and F-score are ill-defined and being set to 0.0 in labels with no predicted samples. Use `zero_division` parameter to control this behavior.\n",
            "  _warn_prf(average, modifier, msg_start, len(result))\n",
            "/usr/local/lib/python3.7/dist-packages/sklearn/metrics/_classification.py:1318: UndefinedMetricWarning: Precision and F-score are ill-defined and being set to 0.0 in labels with no predicted samples. Use `zero_division` parameter to control this behavior.\n",
            "  _warn_prf(average, modifier, msg_start, len(result))\n"
          ]
        }
      ]
    },
    {
      "cell_type": "code",
      "source": [
        "pd_debitos = pd.read_excel(\"/content/sample_data/TCC_Extracao_final_ni_Formatado.xlsx\", sheet_name=0) \n",
        "print(pd_debitos.keys())\n",
        "\n",
        "#Tranforma os valores de diferença em -1 se diminuiu e 1 se aumentou o débito\n",
        "pd_debitos[\"Dif3\"] = pd_debitos[\"Dif3\"].apply(encode_units)\n",
        "#apaga os valores sem diferença, manteve o débito igual\n",
        "pd_debitos.dropna(axis=0, subset=['Dif3'], inplace = True)\n",
        "\n",
        "print(\"\\nQuantidade de Registros depois: {0}\".format(pd_debitos[\"classe\"].count()))\n",
        "\n",
        "\n",
        "var_mod =['classe','sit_cadastral', 'diferenciada', 'simei','simples', 'porte', 'nat_juridica', 'cnae3'] \n",
        "le = LabelEncoder() \n",
        "print(pd_debitos.keys())\n",
        "for i in var_mod: \n",
        "  pd_debitos[i] = le.fit_transform(pd_debitos[i]) \n",
        "  #print(pd_debitos[i].sort_values().unique().tolist())\n",
        "  #print(le.inverse_transform(pd_debitos[i].sort_values().unique().tolist()))\n",
        "\n",
        "#define a coluna de resultado\n",
        "y_dados_m3 = le.fit_transform(pd_debitos.iloc[:,11:12])\n",
        "print(pd_debitos.iloc[:,11:12].keys())\n",
        "print(le.inverse_transform([0,1,2]))\n",
        "print(y_dados_m3)  \n",
        "\n",
        "X_dados = pd_debitos.iloc[:,0:9]\n",
        "#print(\"\\nCampos: {0}\".format(pd_debitos.iloc[:,0:9].keys()))\n",
        "#print(\"\\nCampos: {0}\".format(X_train.head()))\n",
        "\n",
        "for tamanho_amostra_teste in [0.01, 0.05, 0.1, 0.15, 0.20, 0.25]:\n",
        "\n",
        "        for criterios_decisao in [['entropy', 50, 100], ['entropy',50, 500], ['entropy', 100, 500], ['entropy', 100, 1000],['entropy', 100, 1500],['entropy', 100, 2000]]: \n",
        "        \n",
        "            X_train, X_test, y_train, y_test = train_test_split(X_dados, y_dados_m3, random_state=0, test_size=tamanho_amostra_teste) #, test_size=0.1\n",
        "            debitos_tree = DecisionTreeClassifier(random_state=0, criterion=criterios_decisao[0], min_samples_leaf=criterios_decisao[1], min_samples_split=criterios_decisao[2]) #, criterion=\"gini\", min_samples_leaf=100, min_samples_split=500\n",
        "\n",
        "            \n",
        "            debitos_tree = debitos_tree.fit(X_train, y_train) #comando que irá treinar é o FIT\n",
        "            #print(\"Acurácia (base de treinamento):\", debitos_tree.score(X_train, y_train)) #método Scrore calcula a Acurária da base de Treinamento\n",
        "\n",
        "            Train_predict = debitos_tree.predict(X_test) \n",
        "            #print(\"Acurácia (previsão):\", accuracy_score(y_test, Train_predict)) \n",
        "            #print(classification_report(y_test, Train_predict, target_names=[\"Aumentou\", \"Diminuiu\", \"Manteve\"]))\n",
        "\n",
        "\n",
        "            y_pred = debitos_tree.predict(X_test) #tenta prever a árvore de decisão\n",
        "            #print(\"Acurácia de previsão:\", accuracy_score(y_test, y_pred))\n",
        "\n",
        "\n",
        "            print(\"test_size: {3}, Acurancia Previsão: {4}, criterion: {0}, min_samples_leaf: {1}, min_samples_split: {2} \".format(debitos_tree.criterion, debitos_tree.min_samples_leaf, debitos_tree.min_samples_split, tamanho_amostra_teste, accuracy_score(y_test, y_pred)))\n",
        "            #print(\"classification_report\")\n",
        "            #print(classification_report(y_test, y_pred, target_names=[\"Aumentou\", \"Diminuiu\", \"Manteve\"]))\n",
        "                \n",
        "            #cnf_matrix = confusion_matrix(y_test, y_pred)\n",
        "            #cnf_table = pd.DataFrame(data=cnf_matrix, index=[\"Aumentou\", \"Diminuiu\", \"Manteve\"], columns=[\"Aumentou (prev)\", \"Diminuiu (prev)\", \"Manteve (prev)\"])\n",
        "            #print(cnf_table)"
      ],
      "metadata": {
        "colab": {
          "base_uri": "https://localhost:8080/"
        },
        "id": "7bJv1LzoXwYr",
        "outputId": "14b52aaf-610b-481b-c1b5-5cd615c892e5"
      },
      "execution_count": null,
      "outputs": [
        {
          "output_type": "stream",
          "name": "stdout",
          "text": [
            "Index(['ni', 'classe', 'sit_cadastral', 'diferenciada', 'simei', 'simples',\n",
            "       'porte', 'nat_juridica', 'cnae3', 'valor', 'valorm3', 'Dif3'],\n",
            "      dtype='object')\n",
            "\n",
            "Quantidade de Registros depois: 389202\n",
            "Index(['ni', 'classe', 'sit_cadastral', 'diferenciada', 'simei', 'simples',\n",
            "       'porte', 'nat_juridica', 'cnae3', 'valor', 'valorm3', 'Dif3'],\n",
            "      dtype='object')\n"
          ]
        },
        {
          "output_type": "stream",
          "name": "stderr",
          "text": [
            "/usr/local/lib/python3.7/dist-packages/sklearn/preprocessing/_label.py:115: DataConversionWarning: A column-vector y was passed when a 1d array was expected. Please change the shape of y to (n_samples, ), for example using ravel().\n",
            "  y = column_or_1d(y, warn=True)\n"
          ]
        },
        {
          "output_type": "stream",
          "name": "stdout",
          "text": [
            "Index(['Dif3'], dtype='object')\n",
            "['Aumentou' 'Diminuiu' 'Manteve']\n",
            "[2 2 2 ... 1 1 2]\n",
            "test_size: 0.01, Acurancia Previsão: 0.7611096840482918, criterion: entropy, min_samples_leaf: 50, min_samples_split: 100 \n",
            "test_size: 0.01, Acurancia Previsão: 0.7654764962753661, criterion: entropy, min_samples_leaf: 50, min_samples_split: 500 \n",
            "test_size: 0.01, Acurancia Previsão: 0.7652196249678911, criterion: entropy, min_samples_leaf: 100, min_samples_split: 500 \n",
            "test_size: 0.01, Acurancia Previsão: 0.7626509118931415, criterion: entropy, min_samples_leaf: 100, min_samples_split: 1000 \n",
            "test_size: 0.01, Acurancia Previsão: 0.7629077832006165, criterion: entropy, min_samples_leaf: 100, min_samples_split: 1500 \n",
            "test_size: 0.01, Acurancia Previsão: 0.7616234266632417, criterion: entropy, min_samples_leaf: 100, min_samples_split: 2000 \n",
            "test_size: 0.05, Acurancia Previsão: 0.7673809156775089, criterion: entropy, min_samples_leaf: 50, min_samples_split: 100 \n",
            "test_size: 0.05, Acurancia Previsão: 0.7689738451261497, criterion: entropy, min_samples_leaf: 50, min_samples_split: 500 \n",
            "test_size: 0.05, Acurancia Previsão: 0.768357227275063, criterion: entropy, min_samples_leaf: 100, min_samples_split: 500 \n",
            "test_size: 0.05, Acurancia Previsão: 0.7682544576332151, criterion: entropy, min_samples_leaf: 100, min_samples_split: 1000 \n",
            "test_size: 0.05, Acurancia Previsão: 0.7687169210215302, criterion: entropy, min_samples_leaf: 100, min_samples_split: 1500 \n",
            "test_size: 0.05, Acurancia Previsão: 0.768357227275063, criterion: entropy, min_samples_leaf: 100, min_samples_split: 2000 \n",
            "test_size: 0.1, Acurancia Previsão: 0.767066622132011, criterion: entropy, min_samples_leaf: 50, min_samples_split: 100 \n",
            "test_size: 0.1, Acurancia Previsão: 0.7702268698132114, criterion: entropy, min_samples_leaf: 50, min_samples_split: 500 \n",
            "test_size: 0.1, Acurancia Previsão: 0.7703553351661057, criterion: entropy, min_samples_leaf: 100, min_samples_split: 500 \n",
            "test_size: 0.1, Acurancia Previsão: 0.7703039490249479, criterion: entropy, min_samples_leaf: 100, min_samples_split: 1000 \n",
            "test_size: 0.1, Acurancia Previsão: 0.7706122658718944, criterion: entropy, min_samples_leaf: 100, min_samples_split: 1500 \n",
            "test_size: 0.1, Acurancia Previsão: 0.7704067213072634, criterion: entropy, min_samples_leaf: 100, min_samples_split: 2000 \n",
            "test_size: 0.15, Acurancia Previsão: 0.7638272725715558, criterion: entropy, min_samples_leaf: 50, min_samples_split: 100 \n",
            "test_size: 0.15, Acurancia Previsão: 0.7663623439132594, criterion: entropy, min_samples_leaf: 50, min_samples_split: 500 \n",
            "test_size: 0.15, Acurancia Previsão: 0.7673729466778575, criterion: entropy, min_samples_leaf: 100, min_samples_split: 500 \n",
            "test_size: 0.15, Acurancia Previsão: 0.7673558178174406, criterion: entropy, min_samples_leaf: 100, min_samples_split: 1000 \n",
            "test_size: 0.15, Acurancia Previsão: 0.7678011681882805, criterion: entropy, min_samples_leaf: 100, min_samples_split: 1500 \n",
            "test_size: 0.15, Acurancia Previsão: 0.767698395025779, criterion: entropy, min_samples_leaf: 100, min_samples_split: 2000 \n",
            "test_size: 0.2, Acurancia Previsão: 0.7636721008209042, criterion: entropy, min_samples_leaf: 50, min_samples_split: 100 \n",
            "test_size: 0.2, Acurancia Previsão: 0.7669865495047598, criterion: entropy, min_samples_leaf: 50, min_samples_split: 500 \n",
            "test_size: 0.2, Acurancia Previsão: 0.7669223160031345, criterion: entropy, min_samples_leaf: 100, min_samples_split: 500 \n",
            "test_size: 0.2, Acurancia Previsão: 0.7669993962050847, criterion: entropy, min_samples_leaf: 100, min_samples_split: 1000 \n",
            "test_size: 0.2, Acurancia Previsão: 0.7670893231073599, criterion: entropy, min_samples_leaf: 100, min_samples_split: 1500 \n",
            "test_size: 0.2, Acurancia Previsão: 0.767179250009635, criterion: entropy, min_samples_leaf: 100, min_samples_split: 2000 \n",
            "test_size: 0.25, Acurancia Previsão: 0.7632501207592933, criterion: entropy, min_samples_leaf: 50, min_samples_split: 100 \n",
            "test_size: 0.25, Acurancia Previsão: 0.7655522553725039, criterion: entropy, min_samples_leaf: 50, min_samples_split: 500 \n",
            "test_size: 0.25, Acurancia Previsão: 0.7654289267325105, criterion: entropy, min_samples_leaf: 100, min_samples_split: 500 \n",
            "test_size: 0.25, Acurancia Previsão: 0.7661483437991388, criterion: entropy, min_samples_leaf: 100, min_samples_split: 1000 \n",
            "test_size: 0.25, Acurancia Previsão: 0.7662819498257983, criterion: entropy, min_samples_leaf: 100, min_samples_split: 1500 \n",
            "test_size: 0.25, Acurancia Previsão: 0.7662100081191354, criterion: entropy, min_samples_leaf: 100, min_samples_split: 2000 \n"
          ]
        }
      ]
    }
  ]
}