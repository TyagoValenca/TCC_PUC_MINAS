{
  "nbformat": 4,
  "nbformat_minor": 0,
  "metadata": {
    "colab": {
      "name": "TCC_TYAGO_Arvore_Montagem1.ipynb",
      "provenance": [],
      "collapsed_sections": []
    },
    "kernelspec": {
      "name": "python3",
      "display_name": "Python 3"
    },
    "language_info": {
      "name": "python"
    }
  },
  "cells": [
    {
      "cell_type": "markdown",
      "source": [
        "# NoteBook responsável por Montar árvores de Devisão"
      ],
      "metadata": {
        "id": "P-_ZdOS-zE7-"
      }
    },
    {
      "cell_type": "code",
      "execution_count": null,
      "metadata": {
        "id": "bJal1GoMzEFg"
      },
      "outputs": [],
      "source": [
        "import pandas as pd\n",
        "import numpy as np\n",
        "from sklearn import datasets, tree\n",
        "from sklearn.model_selection import train_test_split, RandomizedSearchCV\n",
        "from sklearn.tree import DecisionTreeClassifier\n",
        "from sklearn.metrics import accuracy_score, classification_report, confusion_matrix\n",
        "from sklearn.feature_extraction import DictVectorizer\n",
        "from sklearn.preprocessing import LabelEncoder\n",
        "from scipy.stats import randint\n",
        "from sklearn.ensemble import GradientBoostingClassifier"
      ]
    },
    {
      "cell_type": "markdown",
      "source": [
        "Carregamento do arquivo e faz os seguintes tratamento de dados:\n",
        "\n",
        "\n",
        "*   Remove registros Nulos\n",
        "*   Remove regitros Inválidos\n",
        "*   Substitui valores nulos por zero\n",
        "*   Cria campo de diferança.   "
      ],
      "metadata": {
        "id": "eOUaRXi8dubL"
      }
    },
    {
      "cell_type": "code",
      "source": [
        "pd_dados = pd.read_excel(\"/content/sample_data/TCC_Dados_Final1_ni.xlsx\", sheet_name=0)     \n",
        "#pd_dados = pd.read_csv(arquivo, sheet_name=0) \n",
        "\n",
        "print(pd_dados.describe())\n",
        "        \n",
        "print(\"\\nRemovendo registros nulos do arquivo\")\n",
        "# dropna remove os registros faltantes    \n",
        "pd_dados.dropna(axis=0, subset=['sit_cadastral'], inplace = True) \n",
        "pd_dados.dropna(axis=0, subset=['cnae3'], inplace = True)\n",
        "pd_dados.dropna(axis=0, subset=['ni'], inplace = True)\n",
        "\n",
        "\n",
        "#Remove registros que tem CNAE Inválido ou Não Informado\n",
        "pd_dados['sit_cadastral'] = pd_dados['sit_cadastral'].astype('str')\n",
        "pd_dados = pd_dados[~pd_dados['sit_cadastral'].str.contains('NULA')]\n",
        "\n",
        "print(\"\\nRemovendo registros inválidos do arquivo\")\n",
        "#Remove registros que tem CNAE Inválido ou Não Informado\n",
        "pd_dados['cnae3'] = pd_dados['cnae3'].astype('str')\n",
        "pd_dados = pd_dados[~pd_dados['cnae3'].str.contains('IN')]\n",
        "pd_dados = pd_dados[~pd_dados['cnae3'].str.contains('NI')]\n",
        "\n",
        "print(\"\\nSubstitui valores nulos por Zero para os campos de Débitos\")\n",
        "#Coloca zero quando não tem valor, para não dá erro no calculo da diferença. Quando está nulo é por que não tem mais débito, ou seja, está zerado\n",
        "pd_dados[['valorm1']] = pd_dados[['valorm1']].fillna(value = 0)\n",
        "pd_dados[['valorm3']] = pd_dados[['valorm3']].fillna(value = 0)\n",
        "\n",
        "print(\"\\nCriando campos de comparação\")\n",
        "#calcula os campos de comparação para saber se o débito aumentou o diminuiu\n",
        "pd_dados[\"Dif1\"] = pd_dados.valorm1 - pd_dados.valor\n",
        "pd_dados[\"Dif3\"] = pd_dados.valorm3 - pd_dados.valor\n",
        "\n",
        "print(pd_dados.describe())\n",
        "\n",
        "pd_dados = pd_dados.loc[pd_dados['Dif1'] > 10]\n",
        "\n",
        "print(\"\\nSalvando o arquivo: {0}\".format(\"/content/sample_data/TCC_Dados_Final1_ni_Aumentou.xlsx\"))\n",
        "pd_dados.to_excel(\"/content/sample_data/TCC_Dados_Final1_ni_Aumentou.xlsx\", index=False)"
      ],
      "metadata": {
        "id": "pxkuMgt6duHK"
      },
      "execution_count": null,
      "outputs": []
    },
    {
      "cell_type": "markdown",
      "source": [
        "Função que define se Aumentou, Diminuiu ou Manteve"
      ],
      "metadata": {
        "id": "M8HOsgs2d4GC"
      }
    },
    {
      "cell_type": "code",
      "source": [
        "def encode_units(x):\n",
        "  if x > 500:\n",
        "    return \"Aumentou_500\"\n",
        "  elif x > 10:\n",
        "    return \"Aumentou_10\"\n",
        "  else:\n",
        "      return \"Não Aumentou\"\n"
      ],
      "metadata": {
        "id": "i1jmDPDPd5c6"
      },
      "execution_count": null,
      "outputs": []
    },
    {
      "cell_type": "markdown",
      "source": [
        "Campos do Modelo a ser treinado\n",
        "\n",
        "    0 - ni\t\n",
        "    1 - classe\t\n",
        "    2 - sit_cadastral\t\n",
        "    3 - diferenciada\t\n",
        "    4 - simei\t\n",
        "    5 - simples\t\n",
        "    6 - porte\t\n",
        "    7 - nat_juridica\t\n",
        "    8 - cnae3\t\n",
        "    9 - valor\n",
        "    10 - valorm1\t\n",
        "    11 - valorm3\t\n",
        "    12 - Dif1\n",
        "    13 - Dif3"
      ],
      "metadata": {
        "id": "CXkBKWtceA16"
      }
    },
    {
      "cell_type": "markdown",
      "source": [
        "Treinamendo de Modelo sem Particionar a árvore e com Hiperparâmetros pre-definidos"
      ],
      "metadata": {
        "id": "Al6KGmTZeuSt"
      }
    },
    {
      "cell_type": "code",
      "source": [
        "pd_debitos = pd.read_excel(\"/content/sample_data/TCC_Dados_Final1_ni_Aumentou.xlsx\", sheet_name=0) \n",
        "#print(\"\\nDimensões: {0}\".format(pd_debitos.shape))\n",
        "\n",
        "#Tranforma os valores de diferença usando o método encode_units\n",
        "pd_debitos[\"Dif1\"] = pd_debitos[\"Dif1\"].apply(encode_units)\n",
        "pd_debitos[\"Dif3\"] = pd_debitos[\"Dif3\"].apply(encode_units)\n",
        "\n",
        "#apaga os valores sem diferença, manteve o débito igual\n",
        "pd_debitos.dropna(axis=0, subset=['Dif1'], inplace = True)\n",
        "pd_debitos.dropna(axis=0, subset=['Dif3'], inplace = True)\n",
        "\n",
        "#print(\"\\nQuantidade de Registros depois: {0}\".format(pd_debitos[\"classe\"].count()))\n",
        "\n",
        "arr_atributos =['classe','sit_cadastral', 'diferenciada', 'simei','simples', 'porte', 'nat_juridica', 'cnae3'] \n",
        "le = LabelEncoder() \n",
        "#print(pd_debitos.keys())\n",
        "for atributo in arr_atributos:\n",
        "    pd_debitos.sort_values(by=atributo, inplace = True)\n",
        "    pd_debitos[atributo] = le.fit_transform(pd_debitos[atributo]) \n",
        "    print(pd_debitos[atributo].sort_values().unique().tolist())\n",
        "    print(le.inverse_transform(pd_debitos[atributo].sort_values().unique().tolist()))\n",
        "\n",
        "\n",
        "#define a coluna de resultado\n",
        "y_dados_m1 = le.fit_transform(pd_debitos.iloc[:,12:13])\n",
        "y_dados_m3 = le.fit_transform(pd_debitos.iloc[:,13:14])\n",
        "arr_label = le.inverse_transform([0,1,2])\n",
        "print(le.inverse_transform([0,1,2]))\n",
        "#print(y_train)    \n",
        "\n",
        "X_dados = pd_debitos.iloc[:,0:9]\n",
        "\n",
        "#for criterios_decisao in [['gini',10, 50], ['gini',20, 50],['gini', 20, 100],['entropy',10, 50], ['entropy',20, 50],['entropy', 20, 100]] :\n",
        "'''\n",
        "criterios_decisao = ['gini',10, 50]\n",
        "#Cria o modelo com os HyperParametros configurados, nesse caso utiliza os Defaults\n",
        "\n",
        "debitos_tree = DecisionTreeClassifier(random_state=0, criterion=criterios_decisao[0], min_samples_leaf=criterios_decisao[1], min_samples_split=criterios_decisao[2])\n",
        "#debitos_tree = DecisionTreeClassifier(random_state=0)\n",
        "#print(\"DecisionTreeClassifier\")\n",
        "debitos_tree = debitos_tree.fit(X_dados, y_dados_m3) #comando que irá treinar é o FIT\n",
        "#print(\"Acurácia\", debitos_tree.score(X_train, y_train)) #método Scrore calcula a Acurária da base de Treinamento\n",
        "\n",
        "Train_predict = debitos_tree.predict(X_dados) \n",
        "\n",
        "print(\"Acurancia M3: {0}, criterion: {1}, min_samples_leaf: {2}, min_samples_split: {3}\".format(accuracy_score(y_dados_m3, Train_predict), debitos_tree.criterion, debitos_tree.min_samples_leaf, debitos_tree.min_samples_split))\n",
        "print(classification_report(y_dados_m3, Train_predict, target_names=arr_label))\n",
        "\n",
        "#Matriz de Confusão\n",
        "cnf_matrix = confusion_matrix(y_dados_m3, Train_predict)\n",
        "cnf_table = pd.DataFrame(data=cnf_matrix, index=arr_label, columns=[arr_label[0] + \" (prev)\", arr_label[1] + \" (prev)\", arr_label[2] + \" (prev)\"])\n",
        "print(cnf_table)\n",
        "\n",
        "import pydotplus \n",
        "# Create DOT data\n",
        "tree.export_graphviz(debitos_tree, out_file=\"/content/sample_data/TCC_Dados_Final1_ni_Aumentou.dot\", \n",
        "                                proportion=False,\n",
        "                                rounded =True,\n",
        "                                filled=True,\n",
        "                                feature_names=X_dados.keys(),\n",
        "                                class_names=arr_label)\n",
        "'''"
      ],
      "metadata": {
        "id": "JIAOzfsieQAb"
      },
      "execution_count": null,
      "outputs": []
    },
    {
      "cell_type": "markdown",
      "source": [
        "Depois de criado o arquivo DOT com as informações da Árvore, cria a Imagem"
      ],
      "metadata": {
        "id": "uzouwsYA6i0s"
      }
    },
    {
      "cell_type": "code",
      "source": [
        "import pydotplus \n",
        "from IPython.display import Image\n",
        "\n",
        "\n",
        "# Draw graph\n",
        "graph = pydotplus.graph_from_dot_file(\"/content/sample_data/TCC_Dados_Final1_ni_Aumentou.dot\")\n",
        "\n",
        "# Show graph\n",
        "Image(graph.create_png())"
      ],
      "metadata": {
        "id": "6KQZx_k86pgb"
      },
      "execution_count": null,
      "outputs": []
    }
  ]
}