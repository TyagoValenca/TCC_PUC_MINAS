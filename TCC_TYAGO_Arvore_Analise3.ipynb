{
  "nbformat": 4,
  "nbformat_minor": 0,
  "metadata": {
    "colab": {
      "name": "TCC_TYAGO_Arvore_Analise3.ipynb",
      "provenance": [],
      "collapsed_sections": []
    },
    "kernelspec": {
      "name": "python3",
      "display_name": "Python 3"
    },
    "language_info": {
      "name": "python"
    }
  },
  "cells": [
    {
      "cell_type": "markdown",
      "source": [
        "# NoteBook utilizado para criação e avaliação dos Hiperparâmetros da árvore de decisão.\n",
        "\n",
        "# Será inicialmente carregado com o DataSet definido no Notebook \"TCC_TYAGO_AnaliseAtributos.ipynb\"."
      ],
      "metadata": {
        "id": "A_C8FdVndkyt"
      }
    },
    {
      "cell_type": "code",
      "source": [
        "from google.colab import drive\n",
        "drive.mount('/content/drive')"
      ],
      "metadata": {
        "id": "CFn3VUwNCoX4"
      },
      "execution_count": null,
      "outputs": []
    },
    {
      "cell_type": "code",
      "execution_count": null,
      "metadata": {
        "id": "snk2FgLqdXCm"
      },
      "outputs": [],
      "source": [
        "import pandas as pd\n",
        "import numpy as np\n",
        "from sklearn import datasets, tree\n",
        "from sklearn.model_selection import train_test_split, RandomizedSearchCV\n",
        "from sklearn.tree import DecisionTreeClassifier\n",
        "from sklearn.metrics import accuracy_score, classification_report, confusion_matrix\n",
        "from sklearn.feature_extraction import DictVectorizer\n",
        "from sklearn.preprocessing import LabelEncoder\n",
        "from scipy.stats import randint\n",
        "from sklearn.ensemble import GradientBoostingClassifier"
      ]
    },
    {
      "cell_type": "markdown",
      "source": [
        "Carregamento do arquivo e faz os seguintes tratamento de dados:\n",
        "\n",
        "\n",
        "*   Remove registros Nulos\n",
        "*   Remove regitros Inválidos\n",
        "*   Substitui valores nulos por zero\n",
        "*   Cria campo de diferança.   "
      ],
      "metadata": {
        "id": "eOUaRXi8dubL"
      }
    },
    {
      "cell_type": "code",
      "source": [
        "pd_dados = pd.read_excel(\"/content/sample_data/TCC_Dados_Final1_ni.xlsx\", sheet_name=0)     \n",
        "#pd_dados = pd.read_csv(arquivo, sheet_name=0) \n",
        "\n",
        "print(pd_dados.describe())\n",
        "        \n",
        "print(\"\\nRemovendo registros nulos do arquivo\")\n",
        "# dropna remove os registros faltantes    \n",
        "pd_dados.dropna(axis=0, subset=['sit_cadastral'], inplace = True) \n",
        "pd_dados.dropna(axis=0, subset=['cnae3'], inplace = True)\n",
        "pd_dados.dropna(axis=0, subset=['ni'], inplace = True)\n",
        "\n",
        "\n",
        "#Remove registros que tem CNAE Inválido ou Não Informado\n",
        "pd_dados['sit_cadastral'] = pd_dados['sit_cadastral'].astype('str')\n",
        "pd_dados = pd_dados[~pd_dados['sit_cadastral'].str.contains('NULA')]\n",
        "\n",
        "print(\"\\nRemovendo registros inválidos do arquivo\")\n",
        "#Remove registros que tem CNAE Inválido ou Não Informado\n",
        "pd_dados['cnae3'] = pd_dados['cnae3'].astype('str')\n",
        "pd_dados = pd_dados[~pd_dados['cnae3'].str.contains('IN')]\n",
        "pd_dados = pd_dados[~pd_dados['cnae3'].str.contains('NI')]\n",
        "\n",
        "print(\"\\nSubstitui valores nulos por Zero para os campos de Débitos\")\n",
        "#Coloca zero quando não tem valor, para não dá erro no calculo da diferença. Quando está nulo é por que não tem mais débito, ou seja, está zerado\n",
        "pd_dados[['valorm1']] = pd_dados[['valorm1']].fillna(value = 0)\n",
        "pd_dados[['valorm3']] = pd_dados[['valorm3']].fillna(value = 0)\n",
        "\n",
        "print(\"\\nCriando campos de comparação\")\n",
        "#calcula os campos de comparação para saber se o débito aumentou o diminuiu\n",
        "pd_dados[\"Dif1\"] = pd_dados.valorm1 - pd_dados.valor\n",
        "pd_dados[\"Dif3\"] = pd_dados.valorm3 - pd_dados.valor\n",
        "\n",
        "print(pd_dados.describe())\n",
        "\n",
        "print(\"\\nSalvando o arquivo: {0}\".format(\"/content/sample_data/TCC_Dados_Final1_ni_Formatado.xlsx\"))\n",
        "pd_dados.to_excel(\"/content/sample_data/TCC_Dados_Final1_ni_Formatado.xlsx\", index=False)"
      ],
      "metadata": {
        "colab": {
          "base_uri": "https://localhost:8080/"
        },
        "id": "pxkuMgt6duHK",
        "outputId": "cc06edbf-5b92-4b0c-a78e-647f45ab0dc2"
      },
      "execution_count": null,
      "outputs": [
        {
          "output_type": "stream",
          "name": "stdout",
          "text": [
            "                  ni   nat_juridica         valor       valorm1       valorm3\n",
            "count  389285.000000  389285.000000  3.892850e+05  3.695480e+05  3.556940e+05\n",
            "mean   191398.469052     218.066075  4.008667e+04  5.101589e+04  4.939816e+04\n",
            "std    111414.146668      30.856279  3.546057e+06  4.138557e+06  2.927664e+06\n",
            "min         0.000000     102.000000  1.000000e-02  1.000000e-02  1.000000e-02\n",
            "25%     94644.000000     213.000000  1.961300e+02  2.005375e+02  2.035800e+02\n",
            "50%    190997.000000     213.000000  6.393700e+02  6.492100e+02  6.606050e+02\n",
            "75%    287930.000000     213.000000  1.837220e+03  1.863757e+03  1.845945e+03\n",
            "max    384661.000000     401.000000  1.889909e+09  1.910075e+09  9.480777e+08\n",
            "\n",
            "Removendo registros nulos do arquivo\n",
            "\n",
            "Removendo registros inválidos do arquivo\n"
          ]
        },
        {
          "output_type": "stream",
          "name": "stderr",
          "text": [
            "/usr/local/lib/python3.7/dist-packages/ipykernel_launcher.py:19: SettingWithCopyWarning: \n",
            "A value is trying to be set on a copy of a slice from a DataFrame.\n",
            "Try using .loc[row_indexer,col_indexer] = value instead\n",
            "\n",
            "See the caveats in the documentation: https://pandas.pydata.org/pandas-docs/stable/user_guide/indexing.html#returning-a-view-versus-a-copy\n"
          ]
        },
        {
          "output_type": "stream",
          "name": "stdout",
          "text": [
            "\n",
            "Substitui valores nulos por Zero para os campos de Débitos\n",
            "\n",
            "Criando campos de comparação\n",
            "                  ni   nat_juridica         valor       valorm1       valorm3  \\\n",
            "count  389128.000000  389128.000000  3.891280e+05  3.891280e+05  3.891280e+05   \n",
            "mean   191394.907732     218.067859  4.008731e+04  4.843335e+04  4.513832e+04   \n",
            "std    111410.521081      30.859295  3.546760e+06  4.033096e+06  2.799085e+06   \n",
            "min         0.000000     102.000000  1.000000e-02  0.000000e+00  0.000000e+00   \n",
            "25%     94636.750000     213.000000  1.961300e+02  1.382700e+02  1.226300e+02   \n",
            "50%    191005.500000     213.000000  6.393700e+02  6.053800e+02  5.649450e+02   \n",
            "75%    287920.250000     213.000000  1.837510e+03  1.742180e+03  1.654602e+03   \n",
            "max    384661.000000     401.000000  1.889909e+09  1.910075e+09  9.480777e+08   \n",
            "\n",
            "               Dif1          Dif3  \n",
            "count  3.891280e+05  3.891280e+05  \n",
            "mean   8.346039e+03  5.051010e+03  \n",
            "std    3.943316e+06  2.695450e+06  \n",
            "min   -9.439711e+08 -9.418316e+08  \n",
            "25%    1.400000e-01  2.400000e-01  \n",
            "50%    6.900000e-01  1.790000e+00  \n",
            "75%    2.240000e+00  6.670000e+00  \n",
            "max    1.909808e+09  9.480555e+08  \n",
            "\n",
            "Salvando o arquivo: /content/sample_data/TCC_Dados_Final1_ni_Formatado.xlsx\n"
          ]
        },
        {
          "output_type": "stream",
          "name": "stderr",
          "text": [
            "/usr/local/lib/python3.7/dist-packages/pandas/core/frame.py:3641: SettingWithCopyWarning: \n",
            "A value is trying to be set on a copy of a slice from a DataFrame.\n",
            "Try using .loc[row_indexer,col_indexer] = value instead\n",
            "\n",
            "See the caveats in the documentation: https://pandas.pydata.org/pandas-docs/stable/user_guide/indexing.html#returning-a-view-versus-a-copy\n",
            "  self[k1] = value[k2]\n",
            "/usr/local/lib/python3.7/dist-packages/ipykernel_launcher.py:30: SettingWithCopyWarning: \n",
            "A value is trying to be set on a copy of a slice from a DataFrame.\n",
            "Try using .loc[row_indexer,col_indexer] = value instead\n",
            "\n",
            "See the caveats in the documentation: https://pandas.pydata.org/pandas-docs/stable/user_guide/indexing.html#returning-a-view-versus-a-copy\n",
            "/usr/local/lib/python3.7/dist-packages/ipykernel_launcher.py:31: SettingWithCopyWarning: \n",
            "A value is trying to be set on a copy of a slice from a DataFrame.\n",
            "Try using .loc[row_indexer,col_indexer] = value instead\n",
            "\n",
            "See the caveats in the documentation: https://pandas.pydata.org/pandas-docs/stable/user_guide/indexing.html#returning-a-view-versus-a-copy\n"
          ]
        }
      ]
    },
    {
      "cell_type": "markdown",
      "source": [
        "Função que define se Aumentou, Diminuiu ou Manteve"
      ],
      "metadata": {
        "id": "M8HOsgs2d4GC"
      }
    },
    {
      "cell_type": "code",
      "source": [
        "def encode_units(x):\n",
        "  if x < 0:\n",
        "    return \"Diminuiu\"\n",
        "  elif x > 2.5:\n",
        "    return \"Aumentou\"\n",
        "  else:\n",
        "      return \"Manteve\""
      ],
      "metadata": {
        "id": "i1jmDPDPd5c6"
      },
      "execution_count": null,
      "outputs": []
    },
    {
      "cell_type": "markdown",
      "source": [
        "Campos do Modelo a ser treinado\n",
        "\n",
        "    0 - ni\t\n",
        "    1 - classe\t\n",
        "    2 - sit_cadastral\t\n",
        "    3 - diferenciada\t\n",
        "    4 - simei\t\n",
        "    5 - simples\t\n",
        "    6 - porte\t\n",
        "    7 - nat_juridica\t\n",
        "    8 - cnae3\t\n",
        "    9 - valor\n",
        "    10 - valorm1\t\n",
        "    11 - valorm3\t\n",
        "    12 - Dif1\n",
        "    13 - Dif3"
      ],
      "metadata": {
        "id": "CXkBKWtceA16"
      }
    },
    {
      "cell_type": "markdown",
      "source": [
        "Treinamendo de Modelo sem Particionar a árvore e com Hiperparâmetros pre-definidos, \"GRID SEARCH\""
      ],
      "metadata": {
        "id": "Al6KGmTZeuSt"
      }
    },
    {
      "cell_type": "code",
      "source": [
        "pd_debitos = pd.read_excel(\"/content/sample_data/TCC_Dados_Final1_ni_Formatado.xlsx\", sheet_name=0) \n",
        "#print(\"\\nDimensões: {0}\".format(pd_debitos.shape))\n",
        "#print(\"\\nCampos: {0}\".format(pd_debitos.keys()))\n",
        "#print(pd_debitos.describe(), sep='\\n')\n",
        "#print(\"\\nQuantidade de Registros antes: {0}\".format(pd_debitos[\"classe\"].count()))\n",
        "\n",
        "#Tranforma os valores de diferença em -1 se diminuiu e 1 se aumentou o débito\n",
        "pd_debitos[\"Dif1\"] = pd_debitos[\"Dif1\"].apply(encode_units)\n",
        "pd_debitos[\"Dif3\"] = pd_debitos[\"Dif3\"].apply(encode_units)\n",
        "#apaga os valores sem diferença, manteve o débito igual\n",
        "pd_debitos.dropna(axis=0, subset=['Dif1'], inplace = True)\n",
        "pd_debitos.dropna(axis=0, subset=['Dif3'], inplace = True)\n",
        "\n",
        "#print(\"\\nQuantidade de Registros depois: {0}\".format(pd_debitos[\"classe\"].count()))\n",
        "\n",
        "var_mod =['classe','sit_cadastral', 'diferenciada', 'simei','simples', 'porte', 'nat_juridica', 'cnae3'] \n",
        "le = LabelEncoder() \n",
        "print(pd_debitos.keys())\n",
        "for i in var_mod: \n",
        "    pd_debitos[i] = le.fit_transform(pd_debitos[i]) \n",
        "    #print(pd_debitos[i].sort_values().unique().tolist())\n",
        "    #print(le.inverse_transform(pd_debitos[i].sort_values().unique().tolist()))\n",
        "\n",
        "#define a coluna de resultado\n",
        "#print(pd_debitos.iloc[:,13:14])\n",
        "y_dados_m1 = le.fit_transform(pd_debitos.iloc[:,12:13])\n",
        "y_dados_m3 = le.fit_transform(pd_debitos.iloc[:,13:14])\n",
        "#print(le.inverse_transform([0,1,2]))\n",
        "#print(y_train)    \n",
        "\n",
        "X_dados = pd_debitos.iloc[:,0:9]\n",
        "#print(\"\\nCampos: {0}\".format(pd_debitos.iloc[\n",
        "# :,0:8].keys()))\n",
        "#print(\"\\nCampos: {0}\".format(X_train.head()))\n",
        "\n",
        "\"\"\"### Indução do Modelo\n",
        "\n",
        "\n",
        "Os três passos para indução de um modelo são:\n",
        "\n",
        "1.   Instanciar o modelo: ``` DecisionTreeClassifier()```\n",
        "2.   Treinar o modelo: ```fit()```\n",
        "3.   Testar o modelo: ```predict()```\n",
        "\"\"\"\n",
        "param_dist = {\"max_depth\": [3, None],\n",
        "\n",
        "          \"max_features\": randint(1, 9),\n",
        "          \"min_samples_leaf\": randint(1, 8500),\n",
        "          \"min_samples_split\": randint(1, 19000),\n",
        "          \"criterion\": [\"gini\", \"entropy\"]}\n",
        "\n",
        "debitos_tree = DecisionTreeClassifier(random_state=0)\n",
        "debitos_tree =  RandomizedSearchCV(debitos_tree, param_dist, 2)\n",
        "debitos_tree = debitos_tree.fit(X_dados, y_dados_m3) #comando que irá treinar é o FIT\n",
        "print(debitos_tree.best_params_)\n",
        "\n",
        "Train_predict = debitos_tree.predict(X_dados) \n",
        "\n",
        "print(\"Acurancia M3: {0}\".format(accuracy_score(y_dados_m3, Train_predict)))\n",
        "\n",
        "Train_predict = debitos_tree.predict(X_dados) \n",
        "print(\"Acurácia (previsão M3):\", accuracy_score(y_dados_m3, Train_predict)) \n",
        "print(classification_report(y_dados_m3, Train_predict, target_names=[\"Aumentou\", \"Diminuiu\", \"Manteve\"]))\n",
        "\n",
        "#Matriz de Confusão\n",
        "cnf_matrix = confusion_matrix(y_dados_m3, Train_predict)\n",
        "cnf_table = pd.DataFrame(data=cnf_matrix, index=[\"Aumentou\", \"Diminuiu\", \"Manteve\"], columns=[\"Aumentou (prev)\", \"Diminuiu (prev)\", \"Manteve (prev)\"])\n",
        "print(cnf_table)"
      ],
      "metadata": {
        "colab": {
          "base_uri": "https://localhost:8080/",
          "height": 359
        },
        "id": "JIAOzfsieQAb",
        "outputId": "36dc586c-01fa-4e1d-87f0-a0a57eb4f869"
      },
      "execution_count": null,
      "outputs": [
        {
          "output_type": "stream",
          "name": "stdout",
          "text": [
            "Index(['ni', 'classe', 'sit_cadastral', 'diferenciada', 'simei', 'simples',\n",
            "       'porte', 'nat_juridica', 'cnae3', 'valor', 'valorm1', 'valorm3', 'Dif1',\n",
            "       'Dif3'],\n",
            "      dtype='object')\n"
          ]
        },
        {
          "output_type": "stream",
          "name": "stderr",
          "text": [
            "/usr/local/lib/python3.7/dist-packages/sklearn/preprocessing/_label.py:115: DataConversionWarning: A column-vector y was passed when a 1d array was expected. Please change the shape of y to (n_samples, ), for example using ravel().\n",
            "  y = column_or_1d(y, warn=True)\n"
          ]
        },
        {
          "output_type": "error",
          "ename": "TypeError",
          "evalue": "ignored",
          "traceback": [
            "\u001b[0;31m---------------------------------------------------------------------------\u001b[0m",
            "\u001b[0;31mTypeError\u001b[0m                                 Traceback (most recent call last)",
            "\u001b[0;32m<ipython-input-10-97d2f560f59a>\u001b[0m in \u001b[0;36m<module>\u001b[0;34m()\u001b[0m\n\u001b[1;32m     49\u001b[0m \u001b[0;34m\u001b[0m\u001b[0m\n\u001b[1;32m     50\u001b[0m \u001b[0mdecision_tree\u001b[0m \u001b[0;34m=\u001b[0m \u001b[0mDecisionTreeClassifier\u001b[0m\u001b[0;34m(\u001b[0m\u001b[0mrandom_state\u001b[0m\u001b[0;34m=\u001b[0m\u001b[0;36m0\u001b[0m\u001b[0;34m)\u001b[0m\u001b[0;34m\u001b[0m\u001b[0;34m\u001b[0m\u001b[0m\n\u001b[0;32m---> 51\u001b[0;31m \u001b[0mdebitos_tree\u001b[0m \u001b[0;34m=\u001b[0m  \u001b[0mRandomizedSearchCV\u001b[0m\u001b[0;34m(\u001b[0m\u001b[0mdecision_tree\u001b[0m\u001b[0;34m,\u001b[0m \u001b[0mparam_dist\u001b[0m\u001b[0;34m,\u001b[0m \u001b[0;36m2\u001b[0m\u001b[0;34m)\u001b[0m\u001b[0;34m\u001b[0m\u001b[0;34m\u001b[0m\u001b[0m\n\u001b[0m\u001b[1;32m     52\u001b[0m \u001b[0mdebitos_tree\u001b[0m \u001b[0;34m=\u001b[0m \u001b[0mdebitos_tree\u001b[0m\u001b[0;34m.\u001b[0m\u001b[0mfit\u001b[0m\u001b[0;34m(\u001b[0m\u001b[0mX_dados\u001b[0m\u001b[0;34m,\u001b[0m \u001b[0my_dados_m3\u001b[0m\u001b[0;34m)\u001b[0m \u001b[0;31m#comando que irá treinar é o FIT\u001b[0m\u001b[0;34m\u001b[0m\u001b[0;34m\u001b[0m\u001b[0m\n\u001b[1;32m     53\u001b[0m \u001b[0mprint\u001b[0m\u001b[0;34m(\u001b[0m\u001b[0mdebitos_tree\u001b[0m\u001b[0;34m.\u001b[0m\u001b[0mbest_params_\u001b[0m\u001b[0;34m)\u001b[0m\u001b[0;34m\u001b[0m\u001b[0;34m\u001b[0m\u001b[0m\n",
            "\u001b[0;31mTypeError\u001b[0m: __init__() takes 3 positional arguments but 4 were given"
          ]
        }
      ]
    },
    {
      "cell_type": "markdown",
      "source": [
        "# Nova seção"
      ],
      "metadata": {
        "id": "Vqd0cyV-CSCm"
      }
    },
    {
      "cell_type": "markdown",
      "source": [
        "# Nova seção"
      ],
      "metadata": {
        "id": "-FFNw9NHCSg2"
      }
    }
  ]
}